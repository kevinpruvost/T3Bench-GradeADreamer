{
 "cells": [
  {
   "cell_type": "code",
   "execution_count": 16,
   "metadata": {},
   "outputs": [
    {
     "name": "stdout",
     "output_type": "stream",
     "text": [
      "../third_party/threestudio/outputs/magic3d-coarse-sd/a_pit_filled_with_french_fries@20240812-222234/save/it10000-export/\n",
      "../third_party/threestudio/outputs/magic3d-coarse-sd/a_pit_filled_with_french_fries@20240812-222234/save/it10000-export/model.obj\n"
     ]
    }
   ],
   "source": [
    "import glob\n",
    "import os\n",
    "\n",
    "model_name = \"magic3d-coarse-sd\"\n",
    "formatted_prompt = \"a_pit_filled_with_french_fries\"\n",
    "\n",
    "# launch ls command\n",
    "\n",
    "d = sorted(glob.glob(os.path.join(f'../third_party/threestudio/outputs/{model_name}', formatted_prompt + '*')))[0].replace('\\'', '\\\\\\'')\n",
    "# find folder that contains it*-export in its name inside d\n",
    "test1 = glob.glob(f\"{d}/save/it*-export/\")\n",
    "mesh_folder = glob.glob(f\"{d}/save/it*-export/\")[0]\n",
    "mesh_path = f'{mesh_folder}model.obj'\n",
    "print(mesh_folder)\n",
    "print(mesh_path)"
   ]
  }
 ],
 "metadata": {
  "kernelspec": {
   "display_name": "t3bench",
   "language": "python",
   "name": "python3"
  },
  "language_info": {
   "codemirror_mode": {
    "name": "ipython",
    "version": 3
   },
   "file_extension": ".py",
   "mimetype": "text/x-python",
   "name": "python",
   "nbconvert_exporter": "python",
   "pygments_lexer": "ipython3",
   "version": "3.9.18"
  }
 },
 "nbformat": 4,
 "nbformat_minor": 2
}
